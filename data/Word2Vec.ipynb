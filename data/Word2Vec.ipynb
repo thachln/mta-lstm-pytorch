{
 "cells": [
  {
   "cell_type": "markdown",
   "metadata": {
    "colab_type": "text",
    "id": "uisVbKLZ16pl"
   },
   "source": [
    "# Train Word2Vec model\n",
    "This notebook is aim to prepare a vector file for further usage."
   ]
  },
  {
   "cell_type": "code",
   "execution_count": null,
   "metadata": {},
   "outputs": [],
   "source": [
    "# pip install jieba"
   ]
  },
  {
   "cell_type": "code",
   "execution_count": 2,
   "metadata": {
    "colab": {
     "base_uri": "https://localhost:8080/",
     "height": 55
    },
    "colab_type": "code",
    "executionInfo": {
     "elapsed": 974,
     "status": "ok",
     "timestamp": 1562676842917,
     "user": {
      "displayName": "F74051297王彥霖",
      "photoUrl": "",
      "userId": "11026930765053722807"
     },
     "user_tz": -480
    },
    "id": "6iDJahVq1z2C",
    "outputId": "d5371440-934e-4ea6-d8c1-3bdd78bb95d2"
   },
   "outputs": [],
   "source": [
    "import jieba\n",
    "import logging\n",
    "import pandas as pd\n",
    "from tqdm import tqdm"
   ]
  },
  {
   "cell_type": "code",
   "execution_count": 3,
   "metadata": {
    "colab": {},
    "colab_type": "code",
    "id": "WHkZbawTe3Tf"
   },
   "outputs": [],
   "source": [
    "file_path = ''"
   ]
  },
  {
   "cell_type": "code",
   "execution_count": 6,
   "metadata": {
    "colab": {
     "base_uri": "https://localhost:8080/",
     "height": 72
    },
    "colab_type": "code",
    "executionInfo": {
     "elapsed": 5995,
     "status": "ok",
     "timestamp": 1562676851453,
     "user": {
      "displayName": "F74051297王彥霖",
      "photoUrl": "",
      "userId": "11026930765053722807"
     },
     "user_tz": -480
    },
    "id": "yCVetXmOI4Z3",
    "outputId": "2963bc93-fc6f-425b-99c6-de85f25c36a2"
   },
   "outputs": [
    {
     "output_type": "stream",
     "name": "stderr",
     "text": [
      "100%|██████████| 130224/130224 [00:01<00:00, 75504.27it/s]\n"
     ]
    }
   ],
   "source": [
    "output = open(file_path+'composition_seg.txt', 'w', encoding='utf-8')\n",
    "# num_lines = sum(1 for line in open(file_path+'composition_zh_tw.txt', 'r'))\n",
    "data_file = 'news_data.txt'\n",
    "num_lines = sum(1 for line in open(file_path + data_file, 'r'))\n",
    "with open(file_path+ data_file) as f:\n",
    "    for idx, line in tqdm(enumerate(f), total=num_lines):\n",
    "        if idx > 305000:\n",
    "            print('\\nextract %d articles' % idx)\n",
    "            break\n",
    "        article = line.strip('\\n')\n",
    "        article, topics = article.split(' </d> ')\n",
    "        output.write(article)\n",
    "        output.write(' \\n')\n",
    "    f.close()\n",
    "    \n",
    "output.close()"
   ]
  },
  {
   "cell_type": "code",
   "execution_count": 7,
   "metadata": {
    "colab": {},
    "colab_type": "code",
    "id": "kqkTZZB2J6iW"
   },
   "outputs": [],
   "source": [
    "word2vec_params = {\n",
    "    'sg': 1,\n",
    "    \"size\": 100,\n",
    "    \"alpha\": 0.01,\n",
    "    \"min_alpha\": 0.0005,\n",
    "    'window': 10,\n",
    "    'min_count': 1,\n",
    "    'seed': 1,\n",
    "    \"workers\": 24,\n",
    "    \"negative\": 0,\n",
    "    \"hs\": 1,\n",
    "    'compute_loss': True,\n",
    "    'iter': 50,\n",
    "    'cbow_mean': 0,\n",
    "}"
   ]
  },
  {
   "cell_type": "code",
   "execution_count": 9,
   "metadata": {
    "colab": {
     "base_uri": "https://localhost:8080/",
     "height": 1000
    },
    "colab_type": "code",
    "executionInfo": {
     "elapsed": 536177,
     "status": "ok",
     "timestamp": 1562683084645,
     "user": {
      "displayName": "F74051297王彥霖",
      "photoUrl": "",
      "userId": "11026930765053722807"
     },
     "user_tz": -480
    },
    "id": "JORzjKO9J9az",
    "outputId": "7578c451-ad64-4e94-9b40-e083a15eee36",
    "tags": [
     "outputPrepend"
    ]
   },
   "outputs": [
    {
     "output_type": "stream",
     "name": "stderr",
     "text": [
      "8, out_qsize 0\n",
      "2020-12-24 22:02:18,691 : INFO : EPOCH 49 - PROGRESS: at 42.83% examples, 291879 words/s, in_qsize 47, out_qsize 0\n",
      "2020-12-24 22:02:19,725 : INFO : EPOCH 49 - PROGRESS: at 44.15% examples, 292637 words/s, in_qsize 48, out_qsize 0\n",
      "2020-12-24 22:02:20,773 : INFO : EPOCH 49 - PROGRESS: at 45.32% examples, 292294 words/s, in_qsize 47, out_qsize 0\n",
      "2020-12-24 22:02:21,799 : INFO : EPOCH 49 - PROGRESS: at 46.44% examples, 291977 words/s, in_qsize 47, out_qsize 0\n",
      "2020-12-24 22:02:22,887 : INFO : EPOCH 49 - PROGRESS: at 47.70% examples, 292054 words/s, in_qsize 47, out_qsize 1\n",
      "2020-12-24 22:02:23,890 : INFO : EPOCH 49 - PROGRESS: at 49.02% examples, 293069 words/s, in_qsize 47, out_qsize 0\n",
      "2020-12-24 22:02:24,916 : INFO : EPOCH 49 - PROGRESS: at 50.07% examples, 292343 words/s, in_qsize 47, out_qsize 0\n",
      "2020-12-24 22:02:25,963 : INFO : EPOCH 49 - PROGRESS: at 51.29% examples, 292499 words/s, in_qsize 47, out_qsize 0\n",
      "2020-12-24 22:02:26,967 : INFO : EPOCH 49 - PROGRESS: at 52.46% examples, 292603 words/s, in_qsize 47, out_qsize 0\n",
      "2020-12-24 22:02:27,973 : INFO : EPOCH 49 - PROGRESS: at 53.68% examples, 292884 words/s, in_qsize 47, out_qsize 0\n",
      "2020-12-24 22:02:28,974 : INFO : EPOCH 49 - PROGRESS: at 54.73% examples, 292268 words/s, in_qsize 48, out_qsize 0\n",
      "2020-12-24 22:02:30,109 : INFO : EPOCH 49 - PROGRESS: at 56.04% examples, 292210 words/s, in_qsize 47, out_qsize 0\n",
      "2020-12-24 22:02:31,192 : INFO : EPOCH 49 - PROGRESS: at 57.42% examples, 292770 words/s, in_qsize 47, out_qsize 0\n",
      "2020-12-24 22:02:32,233 : INFO : EPOCH 49 - PROGRESS: at 58.61% examples, 292654 words/s, in_qsize 46, out_qsize 0\n",
      "2020-12-24 22:02:33,243 : INFO : EPOCH 49 - PROGRESS: at 59.78% examples, 292618 words/s, in_qsize 47, out_qsize 0\n",
      "2020-12-24 22:02:34,310 : INFO : EPOCH 49 - PROGRESS: at 61.06% examples, 292812 words/s, in_qsize 47, out_qsize 0\n",
      "2020-12-24 22:02:35,345 : INFO : EPOCH 49 - PROGRESS: at 62.23% examples, 292633 words/s, in_qsize 46, out_qsize 0\n",
      "2020-12-24 22:02:36,386 : INFO : EPOCH 49 - PROGRESS: at 63.52% examples, 292958 words/s, in_qsize 47, out_qsize 0\n",
      "2020-12-24 22:02:37,387 : INFO : EPOCH 49 - PROGRESS: at 64.65% examples, 292819 words/s, in_qsize 48, out_qsize 0\n",
      "2020-12-24 22:02:38,442 : INFO : EPOCH 49 - PROGRESS: at 65.90% examples, 293022 words/s, in_qsize 48, out_qsize 0\n",
      "2020-12-24 22:02:39,463 : INFO : EPOCH 49 - PROGRESS: at 66.99% examples, 292633 words/s, in_qsize 47, out_qsize 0\n",
      "2020-12-24 22:02:40,510 : INFO : EPOCH 49 - PROGRESS: at 68.24% examples, 292864 words/s, in_qsize 47, out_qsize 0\n",
      "2020-12-24 22:02:41,529 : INFO : EPOCH 49 - PROGRESS: at 69.18% examples, 291897 words/s, in_qsize 48, out_qsize 3\n",
      "2020-12-24 22:02:42,610 : INFO : EPOCH 49 - PROGRESS: at 70.58% examples, 292569 words/s, in_qsize 47, out_qsize 0\n",
      "2020-12-24 22:02:43,629 : INFO : EPOCH 49 - PROGRESS: at 71.89% examples, 293159 words/s, in_qsize 47, out_qsize 1\n",
      "2020-12-24 22:02:44,640 : INFO : EPOCH 49 - PROGRESS: at 72.85% examples, 292396 words/s, in_qsize 46, out_qsize 1\n",
      "2020-12-24 22:02:45,733 : INFO : EPOCH 49 - PROGRESS: at 74.07% examples, 292286 words/s, in_qsize 47, out_qsize 2\n",
      "2020-12-24 22:02:46,738 : INFO : EPOCH 49 - PROGRESS: at 75.29% examples, 292582 words/s, in_qsize 47, out_qsize 0\n",
      "2020-12-24 22:02:47,885 : INFO : EPOCH 49 - PROGRESS: at 76.57% examples, 292462 words/s, in_qsize 46, out_qsize 1\n",
      "2020-12-24 22:02:48,888 : INFO : EPOCH 49 - PROGRESS: at 77.88% examples, 293063 words/s, in_qsize 39, out_qsize 0\n",
      "2020-12-24 22:02:49,904 : INFO : EPOCH 49 - PROGRESS: at 78.88% examples, 292439 words/s, in_qsize 48, out_qsize 2\n",
      "2020-12-24 22:02:50,918 : INFO : EPOCH 49 - PROGRESS: at 79.99% examples, 292269 words/s, in_qsize 47, out_qsize 0\n",
      "2020-12-24 22:02:51,922 : INFO : EPOCH 49 - PROGRESS: at 81.29% examples, 292939 words/s, in_qsize 45, out_qsize 0\n",
      "2020-12-24 22:02:52,934 : INFO : EPOCH 49 - PROGRESS: at 82.29% examples, 292425 words/s, in_qsize 47, out_qsize 0\n",
      "2020-12-24 22:02:54,006 : INFO : EPOCH 49 - PROGRESS: at 83.56% examples, 292701 words/s, in_qsize 47, out_qsize 0\n",
      "2020-12-24 22:02:55,016 : INFO : EPOCH 49 - PROGRESS: at 84.64% examples, 292504 words/s, in_qsize 47, out_qsize 0\n",
      "2020-12-24 22:02:56,034 : INFO : EPOCH 49 - PROGRESS: at 85.78% examples, 292477 words/s, in_qsize 47, out_qsize 0\n",
      "2020-12-24 22:02:57,045 : INFO : EPOCH 49 - PROGRESS: at 86.88% examples, 292376 words/s, in_qsize 47, out_qsize 0\n",
      "2020-12-24 22:02:58,125 : INFO : EPOCH 49 - PROGRESS: at 88.19% examples, 292685 words/s, in_qsize 48, out_qsize 0\n",
      "2020-12-24 22:02:59,125 : INFO : EPOCH 49 - PROGRESS: at 89.25% examples, 292424 words/s, in_qsize 47, out_qsize 0\n",
      "2020-12-24 22:03:00,153 : INFO : EPOCH 49 - PROGRESS: at 90.35% examples, 292279 words/s, in_qsize 48, out_qsize 0\n",
      "2020-12-24 22:03:01,171 : INFO : EPOCH 49 - PROGRESS: at 91.52% examples, 292338 words/s, in_qsize 47, out_qsize 0\n",
      "2020-12-24 22:03:02,210 : INFO : EPOCH 49 - PROGRESS: at 92.89% examples, 292936 words/s, in_qsize 47, out_qsize 0\n",
      "2020-12-24 22:03:03,234 : INFO : EPOCH 49 - PROGRESS: at 93.94% examples, 292587 words/s, in_qsize 46, out_qsize 1\n",
      "2020-12-24 22:03:04,233 : INFO : EPOCH 49 - PROGRESS: at 95.05% examples, 292498 words/s, in_qsize 47, out_qsize 1\n",
      "2020-12-24 22:03:05,303 : INFO : EPOCH 49 - PROGRESS: at 96.33% examples, 292689 words/s, in_qsize 47, out_qsize 0\n",
      "2020-12-24 22:03:06,308 : INFO : EPOCH 49 - PROGRESS: at 97.49% examples, 292756 words/s, in_qsize 47, out_qsize 0\n",
      "2020-12-24 22:03:07,338 : INFO : EPOCH 49 - PROGRESS: at 98.69% examples, 292828 words/s, in_qsize 47, out_qsize 0\n",
      "2020-12-24 22:03:07,836 : INFO : worker thread finished; awaiting finish of 23 more threads\n",
      "2020-12-24 22:03:07,839 : INFO : worker thread finished; awaiting finish of 22 more threads\n",
      "2020-12-24 22:03:07,840 : INFO : worker thread finished; awaiting finish of 21 more threads\n",
      "2020-12-24 22:03:07,844 : INFO : worker thread finished; awaiting finish of 20 more threads\n",
      "2020-12-24 22:03:07,953 : INFO : worker thread finished; awaiting finish of 19 more threads\n",
      "2020-12-24 22:03:07,961 : INFO : worker thread finished; awaiting finish of 18 more threads\n",
      "2020-12-24 22:03:07,980 : INFO : worker thread finished; awaiting finish of 17 more threads\n",
      "2020-12-24 22:03:07,988 : INFO : worker thread finished; awaiting finish of 16 more threads\n",
      "2020-12-24 22:03:08,027 : INFO : worker thread finished; awaiting finish of 15 more threads\n",
      "2020-12-24 22:03:08,054 : INFO : worker thread finished; awaiting finish of 14 more threads\n",
      "2020-12-24 22:03:08,093 : INFO : worker thread finished; awaiting finish of 13 more threads\n",
      "2020-12-24 22:03:08,125 : INFO : worker thread finished; awaiting finish of 12 more threads\n",
      "2020-12-24 22:03:08,131 : INFO : worker thread finished; awaiting finish of 11 more threads\n",
      "2020-12-24 22:03:08,132 : INFO : worker thread finished; awaiting finish of 10 more threads\n",
      "2020-12-24 22:03:08,141 : INFO : worker thread finished; awaiting finish of 9 more threads\n",
      "2020-12-24 22:03:08,157 : INFO : worker thread finished; awaiting finish of 8 more threads\n",
      "2020-12-24 22:03:08,176 : INFO : worker thread finished; awaiting finish of 7 more threads\n",
      "2020-12-24 22:03:08,179 : INFO : worker thread finished; awaiting finish of 6 more threads\n",
      "2020-12-24 22:03:08,190 : INFO : worker thread finished; awaiting finish of 5 more threads\n",
      "2020-12-24 22:03:08,213 : INFO : worker thread finished; awaiting finish of 4 more threads\n",
      "2020-12-24 22:03:08,252 : INFO : worker thread finished; awaiting finish of 3 more threads\n",
      "2020-12-24 22:03:08,270 : INFO : worker thread finished; awaiting finish of 2 more threads\n",
      "2020-12-24 22:03:08,287 : INFO : worker thread finished; awaiting finish of 1 more threads\n",
      "2020-12-24 22:03:08,292 : INFO : worker thread finished; awaiting finish of 0 more threads\n",
      "2020-12-24 22:03:08,294 : INFO : EPOCH - 49 : training on 34392452 raw words (25483600 effective words) took 86.8s, 293464 effective words/s\n",
      "2020-12-24 22:03:09,374 : INFO : EPOCH 50 - PROGRESS: at 0.77% examples, 184627 words/s, in_qsize 48, out_qsize 0\n",
      "2020-12-24 22:03:10,396 : INFO : EPOCH 50 - PROGRESS: at 2.10% examples, 257571 words/s, in_qsize 47, out_qsize 0\n",
      "2020-12-24 22:03:11,425 : INFO : EPOCH 50 - PROGRESS: at 3.16% examples, 258387 words/s, in_qsize 46, out_qsize 1\n",
      "2020-12-24 22:03:12,444 : INFO : EPOCH 50 - PROGRESS: at 4.35% examples, 268308 words/s, in_qsize 47, out_qsize 0\n",
      "2020-12-24 22:03:13,448 : INFO : EPOCH 50 - PROGRESS: at 5.49% examples, 272117 words/s, in_qsize 47, out_qsize 0\n",
      "2020-12-24 22:03:14,485 : INFO : EPOCH 50 - PROGRESS: at 6.72% examples, 277269 words/s, in_qsize 47, out_qsize 0\n",
      "2020-12-24 22:03:15,491 : INFO : EPOCH 50 - PROGRESS: at 7.91% examples, 280206 words/s, in_qsize 42, out_qsize 2\n",
      "2020-12-24 22:03:16,502 : INFO : EPOCH 50 - PROGRESS: at 9.03% examples, 280356 words/s, in_qsize 47, out_qsize 0\n",
      "2020-12-24 22:03:17,543 : INFO : EPOCH 50 - PROGRESS: at 10.31% examples, 283694 words/s, in_qsize 47, out_qsize 0\n",
      "2020-12-24 22:03:18,588 : INFO : EPOCH 50 - PROGRESS: at 11.50% examples, 283997 words/s, in_qsize 47, out_qsize 0\n",
      "2020-12-24 22:03:19,614 : INFO : EPOCH 50 - PROGRESS: at 12.72% examples, 285479 words/s, in_qsize 47, out_qsize 0\n",
      "2020-12-24 22:03:20,649 : INFO : EPOCH 50 - PROGRESS: at 13.93% examples, 286518 words/s, in_qsize 47, out_qsize 0\n",
      "2020-12-24 22:03:21,700 : INFO : EPOCH 50 - PROGRESS: at 15.18% examples, 287581 words/s, in_qsize 47, out_qsize 0\n",
      "2020-12-24 22:03:22,702 : INFO : EPOCH 50 - PROGRESS: at 16.37% examples, 288474 words/s, in_qsize 47, out_qsize 0\n",
      "2020-12-24 22:03:23,720 : INFO : EPOCH 50 - PROGRESS: at 17.50% examples, 287954 words/s, in_qsize 47, out_qsize 0\n",
      "2020-12-24 22:03:24,789 : INFO : EPOCH 50 - PROGRESS: at 18.81% examples, 289308 words/s, in_qsize 47, out_qsize 0\n",
      "2020-12-24 22:03:25,853 : INFO : EPOCH 50 - PROGRESS: at 19.94% examples, 288064 words/s, in_qsize 48, out_qsize 0\n",
      "2020-12-24 22:03:26,941 : INFO : EPOCH 50 - PROGRESS: at 21.33% examples, 290115 words/s, in_qsize 47, out_qsize 0\n",
      "2020-12-24 22:03:27,962 : INFO : EPOCH 50 - PROGRESS: at 22.47% examples, 289955 words/s, in_qsize 44, out_qsize 3\n",
      "2020-12-24 22:03:29,003 : INFO : EPOCH 50 - PROGRESS: at 23.61% examples, 289473 words/s, in_qsize 47, out_qsize 0\n",
      "2020-12-24 22:03:30,029 : INFO : EPOCH 50 - PROGRESS: at 24.91% examples, 291312 words/s, in_qsize 47, out_qsize 0\n",
      "2020-12-24 22:03:31,059 : INFO : EPOCH 50 - PROGRESS: at 25.99% examples, 290331 words/s, in_qsize 47, out_qsize 0\n",
      "2020-12-24 22:03:32,079 : INFO : EPOCH 50 - PROGRESS: at 27.27% examples, 291719 words/s, in_qsize 43, out_qsize 1\n",
      "2020-12-24 22:03:33,088 : INFO : EPOCH 50 - PROGRESS: at 28.30% examples, 290436 words/s, in_qsize 47, out_qsize 0\n",
      "2020-12-24 22:03:34,102 : INFO : EPOCH 50 - PROGRESS: at 29.53% examples, 291156 words/s, in_qsize 47, out_qsize 0\n",
      "2020-12-24 22:03:35,110 : INFO : EPOCH 50 - PROGRESS: at 30.77% examples, 291834 words/s, in_qsize 42, out_qsize 1\n",
      "2020-12-24 22:03:36,117 : INFO : EPOCH 50 - PROGRESS: at 31.85% examples, 290909 words/s, in_qsize 45, out_qsize 3\n",
      "2020-12-24 22:03:37,145 : INFO : EPOCH 50 - PROGRESS: at 33.17% examples, 291834 words/s, in_qsize 47, out_qsize 0\n",
      "2020-12-24 22:03:38,154 : INFO : EPOCH 50 - PROGRESS: at 34.33% examples, 291669 words/s, in_qsize 47, out_qsize 0\n",
      "2020-12-24 22:03:39,265 : INFO : EPOCH 50 - PROGRESS: at 35.58% examples, 291545 words/s, in_qsize 47, out_qsize 0\n",
      "2020-12-24 22:03:40,290 : INFO : EPOCH 50 - PROGRESS: at 36.93% examples, 292864 words/s, in_qsize 47, out_qsize 0\n",
      "2020-12-24 22:03:41,331 : INFO : EPOCH 50 - PROGRESS: at 37.92% examples, 291358 words/s, in_qsize 47, out_qsize 0\n",
      "2020-12-24 22:03:42,364 : INFO : EPOCH 50 - PROGRESS: at 39.24% examples, 292357 words/s, in_qsize 47, out_qsize 0\n",
      "2020-12-24 22:03:43,365 : INFO : EPOCH 50 - PROGRESS: at 40.30% examples, 291721 words/s, in_qsize 47, out_qsize 0\n",
      "2020-12-24 22:03:44,418 : INFO : EPOCH 50 - PROGRESS: at 41.53% examples, 291941 words/s, in_qsize 47, out_qsize 0\n",
      "2020-12-24 22:03:45,422 : INFO : EPOCH 50 - PROGRESS: at 42.84% examples, 292927 words/s, in_qsize 47, out_qsize 0\n",
      "2020-12-24 22:03:46,427 : INFO : EPOCH 50 - PROGRESS: at 44.06% examples, 293320 words/s, in_qsize 38, out_qsize 0\n",
      "2020-12-24 22:03:47,480 : INFO : EPOCH 50 - PROGRESS: at 45.09% examples, 291980 words/s, in_qsize 47, out_qsize 0\n",
      "2020-12-24 22:03:48,490 : INFO : EPOCH 50 - PROGRESS: at 46.39% examples, 292872 words/s, in_qsize 48, out_qsize 0\n",
      "2020-12-24 22:03:49,570 : INFO : EPOCH 50 - PROGRESS: at 47.53% examples, 292294 words/s, in_qsize 48, out_qsize 0\n",
      "2020-12-24 22:03:50,569 : INFO : EPOCH 50 - PROGRESS: at 48.82% examples, 293159 words/s, in_qsize 47, out_qsize 0\n",
      "2020-12-24 22:03:51,589 : INFO : EPOCH 50 - PROGRESS: at 49.93% examples, 292807 words/s, in_qsize 47, out_qsize 0\n",
      "2020-12-24 22:03:52,610 : INFO : EPOCH 50 - PROGRESS: at 51.12% examples, 292975 words/s, in_qsize 47, out_qsize 0\n",
      "2020-12-24 22:03:53,649 : INFO : EPOCH 50 - PROGRESS: at 52.35% examples, 293167 words/s, in_qsize 48, out_qsize 0\n",
      "2020-12-24 22:03:54,702 : INFO : EPOCH 50 - PROGRESS: at 53.53% examples, 292970 words/s, in_qsize 47, out_qsize 0\n",
      "2020-12-24 22:03:55,721 : INFO : EPOCH 50 - PROGRESS: at 54.76% examples, 293164 words/s, in_qsize 47, out_qsize 0\n",
      "2020-12-24 22:03:56,733 : INFO : EPOCH 50 - PROGRESS: at 55.90% examples, 292926 words/s, in_qsize 47, out_qsize 0\n",
      "2020-12-24 22:03:57,760 : INFO : EPOCH 50 - PROGRESS: at 57.07% examples, 292766 words/s, in_qsize 47, out_qsize 0\n",
      "2020-12-24 22:03:58,766 : INFO : EPOCH 50 - PROGRESS: at 58.32% examples, 293151 words/s, in_qsize 47, out_qsize 0\n",
      "2020-12-24 22:03:59,768 : INFO : EPOCH 50 - PROGRESS: at 59.43% examples, 292865 words/s, in_qsize 47, out_qsize 0\n",
      "2020-12-24 22:04:00,782 : INFO : EPOCH 50 - PROGRESS: at 60.60% examples, 292799 words/s, in_qsize 48, out_qsize 0\n",
      "2020-12-24 22:04:01,790 : INFO : EPOCH 50 - PROGRESS: at 61.73% examples, 292626 words/s, in_qsize 46, out_qsize 0\n",
      "2020-12-24 22:04:02,809 : INFO : EPOCH 50 - PROGRESS: at 63.02% examples, 293107 words/s, in_qsize 48, out_qsize 1\n",
      "2020-12-24 22:04:03,817 : INFO : EPOCH 50 - PROGRESS: at 64.13% examples, 292765 words/s, in_qsize 47, out_qsize 0\n",
      "2020-12-24 22:04:04,858 : INFO : EPOCH 50 - PROGRESS: at 65.42% examples, 293171 words/s, in_qsize 47, out_qsize 0\n",
      "2020-12-24 22:04:05,934 : INFO : EPOCH 50 - PROGRESS: at 66.56% examples, 292745 words/s, in_qsize 46, out_qsize 2\n",
      "2020-12-24 22:04:06,950 : INFO : EPOCH 50 - PROGRESS: at 67.79% examples, 293009 words/s, in_qsize 47, out_qsize 0\n",
      "2020-12-24 22:04:08,051 : INFO : EPOCH 50 - PROGRESS: at 69.10% examples, 293223 words/s, in_qsize 47, out_qsize 0\n",
      "2020-12-24 22:04:09,112 : INFO : EPOCH 50 - PROGRESS: at 70.24% examples, 292893 words/s, in_qsize 46, out_qsize 1\n",
      "2020-12-24 22:04:10,126 : INFO : EPOCH 50 - PROGRESS: at 71.55% examples, 293498 words/s, in_qsize 47, out_qsize 0\n",
      "2020-12-24 22:04:11,175 : INFO : EPOCH 50 - PROGRESS: at 72.57% examples, 292776 words/s, in_qsize 46, out_qsize 1\n",
      "2020-12-24 22:04:12,195 : INFO : EPOCH 50 - PROGRESS: at 73.87% examples, 293345 words/s, in_qsize 47, out_qsize 0\n",
      "2020-12-24 22:04:13,200 : INFO : EPOCH 50 - PROGRESS: at 75.15% examples, 293846 words/s, in_qsize 43, out_qsize 0\n",
      "2020-12-24 22:04:14,238 : INFO : EPOCH 50 - PROGRESS: at 76.15% examples, 293086 words/s, in_qsize 47, out_qsize 0\n",
      "2020-12-24 22:04:15,242 : INFO : EPOCH 50 - PROGRESS: at 77.45% examples, 293687 words/s, in_qsize 47, out_qsize 0\n",
      "2020-12-24 22:04:16,269 : INFO : EPOCH 50 - PROGRESS: at 78.59% examples, 293537 words/s, in_qsize 39, out_qsize 1\n",
      "2020-12-24 22:04:17,349 : INFO : EPOCH 50 - PROGRESS: at 79.70% examples, 293066 words/s, in_qsize 47, out_qsize 0\n",
      "2020-12-24 22:04:18,382 : INFO : EPOCH 50 - PROGRESS: at 80.98% examples, 293485 words/s, in_qsize 47, out_qsize 0\n",
      "2020-12-24 22:04:19,496 : INFO : EPOCH 50 - PROGRESS: at 82.15% examples, 293156 words/s, in_qsize 48, out_qsize 0\n",
      "2020-12-24 22:04:20,505 : INFO : EPOCH 50 - PROGRESS: at 83.36% examples, 293473 words/s, in_qsize 46, out_qsize 1\n",
      "2020-12-24 22:04:21,529 : INFO : EPOCH 50 - PROGRESS: at 84.44% examples, 293208 words/s, in_qsize 47, out_qsize 0\n",
      "2020-12-24 22:04:22,546 : INFO : EPOCH 50 - PROGRESS: at 85.58% examples, 293169 words/s, in_qsize 48, out_qsize 0\n",
      "2020-12-24 22:04:23,556 : INFO : EPOCH 50 - PROGRESS: at 86.80% examples, 293459 words/s, in_qsize 47, out_qsize 0\n",
      "2020-12-24 22:04:24,562 : INFO : EPOCH 50 - PROGRESS: at 87.91% examples, 293364 words/s, in_qsize 47, out_qsize 0\n",
      "2020-12-24 22:04:25,565 : INFO : EPOCH 50 - PROGRESS: at 89.05% examples, 293370 words/s, in_qsize 47, out_qsize 0\n",
      "2020-12-24 22:04:26,597 : INFO : EPOCH 50 - PROGRESS: at 90.24% examples, 293480 words/s, in_qsize 47, out_qsize 0\n",
      "2020-12-24 22:04:27,603 : INFO : EPOCH 50 - PROGRESS: at 91.46% examples, 293756 words/s, in_qsize 44, out_qsize 0\n",
      "2020-12-24 22:04:28,651 : INFO : EPOCH 50 - PROGRESS: at 92.52% examples, 293307 words/s, in_qsize 47, out_qsize 0\n",
      "2020-12-24 22:04:29,676 : INFO : EPOCH 50 - PROGRESS: at 93.85% examples, 293847 words/s, in_qsize 47, out_qsize 0\n",
      "2020-12-24 22:04:30,682 : INFO : EPOCH 50 - PROGRESS: at 94.88% examples, 293459 words/s, in_qsize 47, out_qsize 0\n",
      "2020-12-24 22:04:31,694 : INFO : EPOCH 50 - PROGRESS: at 96.16% examples, 293844 words/s, in_qsize 44, out_qsize 0\n",
      "2020-12-24 22:04:32,719 : INFO : EPOCH 50 - PROGRESS: at 97.29% examples, 293741 words/s, in_qsize 47, out_qsize 0\n",
      "2020-12-24 22:04:33,819 : INFO : EPOCH 50 - PROGRESS: at 98.35% examples, 293137 words/s, in_qsize 46, out_qsize 9\n",
      "2020-12-24 22:04:34,523 : INFO : worker thread finished; awaiting finish of 23 more threads\n",
      "2020-12-24 22:04:34,524 : INFO : worker thread finished; awaiting finish of 22 more threads\n",
      "2020-12-24 22:04:34,527 : INFO : worker thread finished; awaiting finish of 21 more threads\n",
      "2020-12-24 22:04:34,530 : INFO : worker thread finished; awaiting finish of 20 more threads\n",
      "2020-12-24 22:04:34,540 : INFO : worker thread finished; awaiting finish of 19 more threads\n",
      "2020-12-24 22:04:34,542 : INFO : worker thread finished; awaiting finish of 18 more threads\n",
      "2020-12-24 22:04:34,563 : INFO : worker thread finished; awaiting finish of 17 more threads\n",
      "2020-12-24 22:04:34,584 : INFO : worker thread finished; awaiting finish of 16 more threads\n",
      "2020-12-24 22:04:34,585 : INFO : worker thread finished; awaiting finish of 15 more threads\n",
      "2020-12-24 22:04:34,664 : INFO : worker thread finished; awaiting finish of 14 more threads\n",
      "2020-12-24 22:04:34,668 : INFO : worker thread finished; awaiting finish of 13 more threads\n",
      "2020-12-24 22:04:34,719 : INFO : worker thread finished; awaiting finish of 12 more threads\n",
      "2020-12-24 22:04:34,735 : INFO : worker thread finished; awaiting finish of 11 more threads\n",
      "2020-12-24 22:04:34,740 : INFO : worker thread finished; awaiting finish of 10 more threads\n",
      "2020-12-24 22:04:34,745 : INFO : worker thread finished; awaiting finish of 9 more threads\n",
      "2020-12-24 22:04:34,758 : INFO : worker thread finished; awaiting finish of 8 more threads\n",
      "2020-12-24 22:04:34,760 : INFO : worker thread finished; awaiting finish of 7 more threads\n",
      "2020-12-24 22:04:34,762 : INFO : worker thread finished; awaiting finish of 6 more threads\n",
      "2020-12-24 22:04:34,775 : INFO : worker thread finished; awaiting finish of 5 more threads\n",
      "2020-12-24 22:04:34,791 : INFO : worker thread finished; awaiting finish of 4 more threads\n",
      "2020-12-24 22:04:34,799 : INFO : worker thread finished; awaiting finish of 3 more threads\n",
      "2020-12-24 22:04:34,804 : INFO : worker thread finished; awaiting finish of 2 more threads\n",
      "2020-12-24 22:04:34,858 : INFO : EPOCH 50 - PROGRESS: at 99.97% examples, 294418 words/s, in_qsize 1, out_qsize 1\n",
      "2020-12-24 22:04:34,860 : INFO : worker thread finished; awaiting finish of 1 more threads\n",
      "2020-12-24 22:04:34,893 : INFO : worker thread finished; awaiting finish of 0 more threads\n",
      "2020-12-24 22:04:34,895 : INFO : EPOCH - 50 : training on 34392452 raw words (25487362 effective words) took 86.6s, 294376 effective words/s\n",
      "2020-12-24 22:04:34,897 : INFO : training on a 1719622600 raw words (1274207529 effective words) took 4487.7s, 283935 effective words/s\n"
     ]
    }
   ],
   "source": [
    "from gensim.models import word2vec\n",
    "\n",
    "logging.basicConfig(format='%(asctime)s : %(levelname)s : %(message)s', level=logging.INFO)\n",
    "sentences = word2vec.LineSentence(file_path+\"composition_seg.txt\")\n",
    "model = word2vec.Word2Vec(sentences=sentences, **word2vec_params)"
   ]
  },
  {
   "cell_type": "code",
   "execution_count": 13,
   "metadata": {
    "colab": {
     "base_uri": "https://localhost:8080/",
     "height": 201
    },
    "colab_type": "code",
    "executionInfo": {
     "elapsed": 16586,
     "status": "ok",
     "timestamp": 1562683101222,
     "user": {
      "displayName": "F74051297王彥霖",
      "photoUrl": "",
      "userId": "11026930765053722807"
     },
     "user_tz": -480
    },
    "id": "UJQgB7hUKR8E",
    "outputId": "75e0dfd4-8778-47b7-8f29-2008811eb1d1"
   },
   "outputs": [
    {
     "output_type": "stream",
     "name": "stderr",
     "text": [
      "2020-12-24 22:06:17,330 : INFO : saving Word2Vec object under composition_mincount_1_305000_vec_original.model, separately None\n",
      "2020-12-24 22:06:17,332 : INFO : storing np array 'vectors' to composition_mincount_1_305000_vec_original.model.wv.vectors.npy\n",
      "2020-12-24 22:06:17,520 : INFO : not storing attribute vectors_norm\n",
      "2020-12-24 22:06:17,522 : INFO : storing np array 'syn1' to composition_mincount_1_305000_vec_original.model.trainables.syn1.npy\n",
      "2020-12-24 22:06:17,702 : INFO : not storing attribute cum_table\n",
      "2020-12-24 22:06:21,703 : INFO : saved composition_mincount_1_305000_vec_original.model\n",
      "2020-12-24 22:06:21,705 : INFO : storing 196845x100 projection weights into composition_mincount_1_305000_vec_original.txt\n"
     ]
    }
   ],
   "source": [
    "model.save(\"composition_mincount_1_305000_vec_original.model\")\n",
    "out = file_path+'composition_mincount_1_305000_vec_original.txt'\n",
    "model.wv.save_word2vec_format(out, binary=False)"
   ]
  },
  {
   "cell_type": "code",
   "execution_count": 15,
   "metadata": {
    "colab": {
     "base_uri": "https://localhost:8080/",
     "height": 274
    },
    "colab_type": "code",
    "executionInfo": {
     "elapsed": 45,
     "status": "ok",
     "timestamp": 1562683101224,
     "user": {
      "displayName": "F74051297王彥霖",
      "photoUrl": "",
      "userId": "11026930765053722807"
     },
     "user_tz": -480
    },
    "id": "YxnZqMS4Es5z",
    "outputId": "66164cbb-19db-4734-bc14-37b6440562ab"
   },
   "outputs": [
    {
     "output_type": "execute_result",
     "data": {
      "text/plain": [
       "[('want', 0.8384345173835754),\n",
       " ('know', 0.8273545503616333),\n",
       " ('dont', 0.8043595552444458),\n",
       " ('if', 0.765792727470398),\n",
       " ('?', 0.7647686004638672),\n",
       " ('need', 0.7590086460113525),\n",
       " ('you', 0.755156934261322),\n",
       " ('get', 0.7526756525039673),\n",
       " ('understand', 0.7416096925735474),\n",
       " ('cant', 0.7407829165458679)]"
      ]
     },
     "metadata": {},
     "execution_count": 15
    }
   ],
   "source": [
    "res = model.wv.most_similar(\"do\",topn = 10)\n",
    "res"
   ]
  },
  {
   "cell_type": "code",
   "execution_count": 16,
   "metadata": {
    "colab": {
     "base_uri": "https://localhost:8080/",
     "height": 35
    },
    "colab_type": "code",
    "executionInfo": {
     "elapsed": 17,
     "status": "ok",
     "timestamp": 1562683101229,
     "user": {
      "displayName": "F74051297王彥霖",
      "photoUrl": "",
      "userId": "11026930765053722807"
     },
     "user_tz": -480
    },
    "id": "AkBKXrsH3P_h",
    "outputId": "07b41859-6ef0-4009-e32d-d0e861f6fb64"
   },
   "outputs": [
    {
     "output_type": "execute_result",
     "data": {
      "text/plain": [
       "196845"
      ]
     },
     "metadata": {},
     "execution_count": 16
    }
   ],
   "source": [
    "len(model.wv.vocab)"
   ]
  },
  {
   "cell_type": "code",
   "execution_count": 0,
   "metadata": {
    "colab": {},
    "colab_type": "code",
    "id": "oUR8xGB9FcKS"
   },
   "outputs": [],
   "source": []
  }
 ],
 "metadata": {
  "accelerator": "GPU",
  "colab": {
   "collapsed_sections": [],
   "name": "Word2Vec.ipynb",
   "provenance": [],
   "version": "0.3.2"
  },
  "kernelspec": {
   "display_name": "Python 3",
   "language": "python",
   "name": "python3"
  },
  "language_info": {
   "codemirror_mode": {
    "name": "ipython",
    "version": 3
   },
   "file_extension": ".py",
   "mimetype": "text/x-python",
   "name": "python",
   "nbconvert_exporter": "python",
   "pygments_lexer": "ipython3",
   "version": "3.8.5-final"
  }
 },
 "nbformat": 4,
 "nbformat_minor": 1
}